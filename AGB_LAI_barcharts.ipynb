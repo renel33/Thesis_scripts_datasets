{
 "cells": [
  {
   "cell_type": "code",
   "execution_count": 9,
   "metadata": {},
   "outputs": [],
   "source": [
    "import numpy as np\n",
    "import matplotlib.pyplot as plt\n",
    "import pandas as pd\n",
    "from matplotlib.offsetbox import AnchoredText\n",
    "import matplotlib.font_manager as font_manager"
   ]
  },
  {
   "cell_type": "code",
   "execution_count": 10,
   "metadata": {},
   "outputs": [
    {
     "name": "stdout",
     "output_type": "stream",
     "text": [
      "[b'0.84' b'0.84' b'0.19' b'0.61' b'0.76' b'0.65']\n",
      "[b'BRR' b'PLSR' b'LR' b'RFR' b'SGD']\n"
     ]
    },
    {
     "name": "stderr",
     "output_type": "stream",
     "text": [
      "<ipython-input-10-89a5544a388c>:1: VisibleDeprecationWarning: Reading unicode strings without specifying the encoding argument is deprecated. Set the encoding, use None for the system default.\n",
      "  data = np.genfromtxt('LAI_AGB_boxplot1.csv', delimiter=\",\", dtype=None)\n"
     ]
    },
    {
     "data": {
      "text/html": [
       "<div>\n",
       "<style scoped>\n",
       "    .dataframe tbody tr th:only-of-type {\n",
       "        vertical-align: middle;\n",
       "    }\n",
       "\n",
       "    .dataframe tbody tr th {\n",
       "        vertical-align: top;\n",
       "    }\n",
       "\n",
       "    .dataframe thead th {\n",
       "        text-align: right;\n",
       "    }\n",
       "</style>\n",
       "<table border=\"1\" class=\"dataframe\">\n",
       "  <thead>\n",
       "    <tr style=\"text-align: right;\">\n",
       "      <th></th>\n",
       "      <th>MLA</th>\n",
       "      <th>BRR</th>\n",
       "      <th>PLSR</th>\n",
       "      <th>LR</th>\n",
       "      <th>RFR</th>\n",
       "      <th>SGD</th>\n",
       "      <th>SVR</th>\n",
       "    </tr>\n",
       "  </thead>\n",
       "  <tbody>\n",
       "    <tr>\n",
       "      <th>0</th>\n",
       "      <td>5bandsr2</td>\n",
       "      <td>0.84</td>\n",
       "      <td>0.84</td>\n",
       "      <td>0.19</td>\n",
       "      <td>0.61</td>\n",
       "      <td>0.76</td>\n",
       "      <td>0.65</td>\n",
       "    </tr>\n",
       "    <tr>\n",
       "      <th>1</th>\n",
       "      <td>Vis</td>\n",
       "      <td>CIRE</td>\n",
       "      <td>RDVI</td>\n",
       "      <td>CIRE</td>\n",
       "      <td>CIRE</td>\n",
       "      <td>CIRE</td>\n",
       "      <td>CIRE</td>\n",
       "    </tr>\n",
       "    <tr>\n",
       "      <th>2</th>\n",
       "      <td>Visr2</td>\n",
       "      <td>0.53</td>\n",
       "      <td>0.54</td>\n",
       "      <td>0.53</td>\n",
       "      <td>0.58</td>\n",
       "      <td>0.53</td>\n",
       "      <td>0.24</td>\n",
       "    </tr>\n",
       "    <tr>\n",
       "      <th>3</th>\n",
       "      <td>LAI5bands</td>\n",
       "      <td>0.76</td>\n",
       "      <td>0.59</td>\n",
       "      <td>0.67</td>\n",
       "      <td>0.82</td>\n",
       "      <td>0.79</td>\n",
       "      <td>0.82</td>\n",
       "    </tr>\n",
       "    <tr>\n",
       "      <th>4</th>\n",
       "      <td>LAIvis</td>\n",
       "      <td>CIGR</td>\n",
       "      <td>CIGR</td>\n",
       "      <td>CIGR</td>\n",
       "      <td>CIGR</td>\n",
       "      <td>CIGR</td>\n",
       "      <td>RDVI</td>\n",
       "    </tr>\n",
       "    <tr>\n",
       "      <th>5</th>\n",
       "      <td>LAIvisR2</td>\n",
       "      <td>0.5</td>\n",
       "      <td>0.51</td>\n",
       "      <td>0.51</td>\n",
       "      <td>0.47</td>\n",
       "      <td>0.5</td>\n",
       "      <td>0.5</td>\n",
       "    </tr>\n",
       "  </tbody>\n",
       "</table>\n",
       "</div>"
      ],
      "text/plain": [
       "         MLA   BRR  PLSR    LR   RFR   SGD   SVR\n",
       "0   5bandsr2  0.84  0.84  0.19  0.61  0.76  0.65\n",
       "1        Vis  CIRE  RDVI  CIRE  CIRE  CIRE  CIRE\n",
       "2      Visr2  0.53  0.54  0.53  0.58  0.53  0.24\n",
       "3  LAI5bands  0.76  0.59  0.67  0.82  0.79  0.82\n",
       "4     LAIvis  CIGR  CIGR  CIGR  CIGR  CIGR  RDVI\n",
       "5   LAIvisR2   0.5  0.51  0.51  0.47   0.5   0.5"
      ]
     },
     "execution_count": 10,
     "metadata": {},
     "output_type": "execute_result"
    }
   ],
   "source": [
    "data = np.genfromtxt('LAI_AGB_boxplot1.csv', delimiter=\",\", dtype=None)\n",
    "datb = pd.read_csv('LAI_AGB_boxplot1.csv', sep=',')\n",
    "MLA = data[0]\n",
    "MLA = np.delete(MLA, 0)\n",
    "AGB_bands = data[1]\n",
    "AGB_bands = np.delete(AGB_bands, 0)\n",
    "print(AGB_bands)\n",
    "AGB_vis_name = data[2]\n",
    "AGB_vis_name = np.delete(AGB_vis_name, 0)\n",
    "AGB_vis = data[3]\n",
    "AGB_vis = np.delete(AGB_vis, 0)\n",
    "LAI_bands = data[4]\n",
    "LAI_bands = np.delete(LAI_bands, 0)\n",
    "LAI_vis_name = data[5]\n",
    "LAI_vis_name = np.delete(LAI_vis_name, 0)\n",
    "LAI_vis = data[6]\n",
    "LAI_vis = np.delete(LAI_vis, 0)\n",
    "print(MLA_AGB)\n",
    "datb"
   ]
  },
  {
   "cell_type": "code",
   "execution_count": 11,
   "metadata": {
    "scrolled": false
   },
   "outputs": [
    {
     "name": "stdout",
     "output_type": "stream",
     "text": [
      "['BRR', 'PLSR', 'LR', 'RFR', 'SGD', 'SVR']\n",
      "['0.84', '0.84', '0.19', '0.61', '0.76', '0.65']\n",
      "['CIRE', 'RDVI', 'CIRE', 'CIRE', 'CIRE', 'CIRE']\n",
      "['0.53', '0.54', '0.53', '0.58', '0.53', '0.24']\n",
      "['0.76', '0.59', '0.67', '0.82', '0.79', '0.82']\n",
      "['CIGR', 'CIGR', 'CIGR', 'CIGR', 'CIGR', 'RDVI']\n",
      "['0.5', '0.51', '0.51', '0.47', '0.5', '0.5']\n"
     ]
    }
   ],
   "source": [
    "MLA1 = []\n",
    "list(MLA)\n",
    "for i in MLA:\n",
    "    i = str(i, 'UTF-8')\n",
    "    MLA1.append(i)\n",
    "print(MLA1)\n",
    "AGB_bands1 = []\n",
    "list(AGB_bands)\n",
    "for i in AGB_bands:\n",
    "    i = str(i, 'UTF-8')\n",
    "    AGB_bands1.append(i)\n",
    "print(AGB_bands1)\n",
    "AGB_vis_name1 = []\n",
    "list(AGB_vis_name)\n",
    "for i in AGB_vis_name:\n",
    "    i = str(i, 'UTF-8')\n",
    "    AGB_vis_name1.append(i)\n",
    "print(AGB_vis_name1)\n",
    "AGB_vis1 = []\n",
    "list(AGB_vis)\n",
    "for i in AGB_vis:\n",
    "    i = str(i, 'UTF-8')\n",
    "    AGB_vis1.append(i)\n",
    "print(AGB_vis1)\n",
    "LAI_bands1 = []\n",
    "list(LAI_bands)\n",
    "for i in LAI_bands:\n",
    "    i = str(i, 'UTF-8')\n",
    "    LAI_bands1.append(i)\n",
    "print(LAI_bands1)\n",
    "LAI_vis_name1 = []\n",
    "list(LAI_vis_name)\n",
    "for i in LAI_vis_name:\n",
    "    i = str(i, 'UTF-8')\n",
    "    LAI_vis_name1.append(i)\n",
    "print(LAI_vis_name1)\n",
    "LAI_vis1 = []\n",
    "list(LAI_vis)\n",
    "for i in LAI_vis:\n",
    "    i = str(i, 'UTF-8')\n",
    "    LAI_vis1.append(i)\n",
    "print(LAI_vis1)"
   ]
  },
  {
   "cell_type": "code",
   "execution_count": 12,
   "metadata": {},
   "outputs": [],
   "source": [
    "AGB_bands = [float(i) for i in AGB_bands1]\n",
    "\n",
    "AGB_vis = [float(i) for i in AGB_vis1]\n",
    "\n",
    "LAI_bands = [float(i) for i in LAI_bands1]\n",
    "\n",
    "LAI_vis = [float(i) for i in LAI_vis1]\n"
   ]
  },
  {
   "cell_type": "code",
   "execution_count": 16,
   "metadata": {},
   "outputs": [
    {
     "data": {
      "image/png": "[encoded data removed]",
      "text/plain": [
       "<Figure size 432x288 with 1 Axes>"
      ]
     },
     "metadata": {
      "needs_background": "light"
     },
     "output_type": "display_data"
    }
   ],
   "source": [
    "data = [AGB_bands, AGB_vis]\n",
    "barWidth = 0.35\n",
    "fig = plt.figure()\n",
    "ax = fig.add_axes([0,0,1,1])\n",
    "br1 = np.arange(6)\n",
    "br2 = [x + barWidth for x in br1]\n",
    "bar1 = ax.bar(br1, data[0], color = 'blue', width = barWidth, alpha=0.5)\n",
    "bar2 = ax.bar(br2, data[1], color = 'orange', width = barWidth, alpha=0.5)\n",
    "plt.xticks([r + barWidth for r in range(6)], MLA1)\n",
    "def autoLabel(rects):\n",
    "    for idx,rect in enumerate(bar2):\n",
    "        height = rect.get_height()\n",
    "        ax.text(rect.get_x() + rect.get_width()*0.6, 1.05*height,\n",
    "        AGB_vis_name1[idx],\n",
    "        ha='center', va='bottom', rotation=90, font = 'Times New Roman', fontweight = 'bold')\n",
    "autoLabel(bar2)\n",
    "\n",
    "axisFont = font_manager.FontProperties(family='Times New Roman',\n",
    "                                   style='normal', size=15)\n",
    "legendFont = font_manager.FontProperties(family='Times New Roman',\n",
    "                                   style='normal', size=13)\n",
    "\n",
    "ax.set_xlabel('Machine Learning Algorithm', fontproperties=axisFont)\n",
    "ax.set_ylabel('$R^2$', fontproperties=axisFont)\n",
    "ax.legend(('Spectral Bands','Vegetation Index'), loc='upper left', prop=legendFont)\n",
    "ax.grid(True)\n",
    "plt.ylim(0,1.1)\n",
    "#plt.axhline(y=0, color='black', linestyle='-', linewidth=1)\n",
    "fig.savefig('AGB_bargrid.png', dpi=300, bbox_inches='tight')\n",
    "#ax.set_xticks(X, MLA1)"
   ]
  },
  {
   "cell_type": "code",
   "execution_count": 19,
   "metadata": {},
   "outputs": [
    {
     "data": {
      "image/png": "[encoded data removed]",
      "text/plain": [
       "<Figure size 432x288 with 1 Axes>"
      ]
     },
     "metadata": {
      "needs_background": "light"
     },
     "output_type": "display_data"
    }
   ],
   "source": [
    "data = [LAI_bands, LAI_vis]\n",
    "barWidth = 0.35\n",
    "fig = plt.figure()\n",
    "ax = fig.add_axes([0,0,1,1])\n",
    "br1 = np.arange(6)\n",
    "br2 = [x + barWidth for x in br1]\n",
    "bar1 = ax.bar(br1, data[0], color = 'blue', width = barWidth, alpha=0.5)\n",
    "bar2 = ax.bar(br2, data[1], color = 'orange', width = barWidth, alpha=0.5)\n",
    "\n",
    "axisFont = font_manager.FontProperties(family='Times New Roman',\n",
    "                                   style='normal', size=15)\n",
    "legendFont = font_manager.FontProperties(family='Times New Roman',\n",
    "                                   style='normal', size=13)\n",
    "\n",
    "plt.xticks([r + barWidth for r in range(6)], MLA1)\n",
    "\n",
    "def autoLabel(rects):\n",
    "    for idx,rect in enumerate(bar2):\n",
    "        height = rect.get_height()\n",
    "        ax.text(rect.get_x() + rect.get_width()*0.6, 1*height,\n",
    "        LAI_vis_name1[idx],\n",
    "        ha='center', va='bottom', rotation=90, font = 'Times New Roman', fontweight = 'bold')\n",
    "\n",
    "autoLabel(bar2)\n",
    "ax.set_xlabel('Machine Learning Algorithm', fontproperties=axisFont)\n",
    "ax.set_ylabel('$R^2$', fontproperties=axisFont)\n",
    "ax.legend(('Spectral Bands','Vegetation Index'), loc='upper left', prop=legendFont)\n",
    "ax.grid(True)\n",
    "plt.ylim(0,1)\n",
    "#plt.axhline(y=0, color='black', linestyle='-', linewidth=1)\n",
    "fig.savefig('LAI_bargrid.png', dpi=300, bbox_inches='tight')\n",
    "#ax.set_xticks(X, MLA1)"
   ]
  },
  {
   "cell_type": "code",
   "execution_count": null,
   "metadata": {},
   "outputs": [],
   "source": []
  }
 ],
 "metadata": {
  "kernelspec": {
   "display_name": "Python 3",
   "language": "python",
   "name": "python3"
  },
  "language_info": {
   "codemirror_mode": {
    "name": "ipython",
    "version": 3
   },
   "file_extension": ".py",
   "mimetype": "text/x-python",
   "name": "python",
   "nbconvert_exporter": "python",
   "pygments_lexer": "ipython3",
   "version": "3.8.5"
  }
 },
 "nbformat": 4,
 "nbformat_minor": 4
}
