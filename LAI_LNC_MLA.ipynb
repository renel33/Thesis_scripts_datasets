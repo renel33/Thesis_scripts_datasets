{
 "cells": [
  {
   "cell_type": "code",
   "execution_count": 1,
   "metadata": {},
   "outputs": [],
   "source": [
    "import numpy as np\n",
    "import matplotlib.pyplot as plt\n",
    "from matplotlib.offsetbox import AnchoredText\n",
    "import pandas as pd\n",
    "from sklearn.model_selection import train_test_split\n",
    "from sklearn.preprocessing import StandardScaler\n",
    "from sklearn.pipeline import make_pipeline\n",
    "from sklearn.model_selection import GridSearchCV\n",
    "import matplotlib.pyplot as plt\n",
    "from sklearn.metrics import classification_report\n",
    "from sklearn.metrics import accuracy_score\n",
    "from sklearn.metrics import mean_squared_error\n",
    "from sklearn import metrics\n",
    "from sklearn.decomposition import PCA\n",
    "from sklearn.ensemble import RandomForestRegressor\n",
    "import matplotlib.font_manager as font_manager"
   ]
  },
  {
   "cell_type": "code",
   "execution_count": 1,
   "metadata": {
    "scrolled": false
   },
   "outputs": [
    {
     "ename": "NameError",
     "evalue": "name 'np' is not defined",
     "output_type": "error",
     "traceback": [
      "\u001b[1;31m---------------------------------------------------------------------------\u001b[0m",
      "\u001b[1;31mNameError\u001b[0m                                 Traceback (most recent call last)",
      "\u001b[1;32m<ipython-input-1-266c3ca446f7>\u001b[0m in \u001b[0;36m<module>\u001b[1;34m\u001b[0m\n\u001b[0;32m      1\u001b[0m \u001b[1;31m#data = np.genfromtxt('LAI_Master_wo1006_new.csv', delimiter=\",\", skip_header=1, dtype=float)\u001b[0m\u001b[1;33m\u001b[0m\u001b[1;33m\u001b[0m\u001b[1;33m\u001b[0m\u001b[0m\n\u001b[0;32m      2\u001b[0m \u001b[1;31m#data = np.genfromtxt('N_master_without1006.csv', delimiter=\",\", skip_header=1, dtype=float)\u001b[0m\u001b[1;33m\u001b[0m\u001b[1;33m\u001b[0m\u001b[1;33m\u001b[0m\u001b[0m\n\u001b[1;32m----> 3\u001b[1;33m \u001b[0mdata\u001b[0m \u001b[1;33m=\u001b[0m \u001b[0mnp\u001b[0m\u001b[1;33m.\u001b[0m\u001b[0mgenfromtxt\u001b[0m\u001b[1;33m(\u001b[0m\u001b[1;34m'LNC_CC_Height_master.csv'\u001b[0m\u001b[1;33m,\u001b[0m \u001b[0mdelimiter\u001b[0m\u001b[1;33m=\u001b[0m\u001b[1;34m\",\"\u001b[0m\u001b[1;33m,\u001b[0m \u001b[0mskip_header\u001b[0m\u001b[1;33m=\u001b[0m\u001b[1;36m1\u001b[0m\u001b[1;33m,\u001b[0m \u001b[0mdtype\u001b[0m\u001b[1;33m=\u001b[0m\u001b[0mfloat\u001b[0m\u001b[1;33m)\u001b[0m\u001b[1;33m\u001b[0m\u001b[1;33m\u001b[0m\u001b[0m\n\u001b[0m\u001b[0;32m      4\u001b[0m \u001b[1;31m#data = np.genfromtxt('LAI_Lidar.csv', delimiter=\",\", skip_header=1, dtype=float)\u001b[0m\u001b[1;33m\u001b[0m\u001b[1;33m\u001b[0m\u001b[1;33m\u001b[0m\u001b[0m\n\u001b[0;32m      5\u001b[0m \u001b[1;33m\u001b[0m\u001b[0m\n",
      "\u001b[1;31mNameError\u001b[0m: name 'np' is not defined"
     ]
    }
   ],
   "source": [
    "#data = np.genfromtxt('LAI_Master_wo1006_new.csv', delimiter=\",\", skip_header=1, dtype=float)\n",
    "#data = np.genfromtxt('N_master_without1006.csv', delimiter=\",\", skip_header=1, dtype=float)\n",
    "data = np.genfromtxt('LNC_CC_Height_master.csv', delimiter=\",\", skip_header=1, dtype=float)\n",
    "#data = np.genfromtxt('LAI_Lidar.csv', delimiter=\",\", skip_header=1, dtype=float)\n",
    "\n",
    "#datb = pd.read_csv('LAI_Master_wo1006_new.csv', sep=',', dtype=float)\n",
    "#datb = pd.read_csv('N_master_without1006.csv', sep=',', dtype=float)\n",
    "datb = pd.read_csv('LNC_CC_Height_master.csv', sep=',', dtype=float)\n",
    "#datb = pd.read_csv('LAI_Lidar.csv', sep=',', dtype=float)\n",
    "\n",
    "#y_LAI = data[:,2].reshape(-1, 1)\n",
    "#y_AGB = data[:,1].reshape(-1, 1)\n",
    "#Y_Li = data[:,2].reshape(-1, 1)\n",
    "#y_n = data[:,14]\n",
    "#y_chm = data[:,1].reshape(-1, 1)\n",
    "#Y = y_n\n",
    "\n",
    "#LAI\n",
    "#X = data[:, 5:17]\n",
    "#X_veg = data[:,10:16]\n",
    "#X_bands = data[:,5:11]\n",
    "#Xh = data[:,[5,6,7,8,9,16]]\n",
    "#h = data[:,16]\n",
    "#X_new = data[:,[5,17]]\n",
    "\n",
    "#N\n",
    "#X = data[:,2:14]\n",
    "X_bands = data[:,3:9]\n",
    "#Xh = data[:,[2,3,4,5,6,13]]\n",
    "#X_veg = data[:,7:13]\n",
    "#Xvh = data[:,7:14]\n",
    "#Xb = data[:,5:10]\n",
    "#X_chm = data[:,7:14]\n",
    "\n",
    "###LAI LIDAR\n",
    "#X_bh = data[:,4:10]\n",
    "#X = data[:,4:9]\n",
    "#X_vh = data[:,9:16]\n",
    "#h = data[:,9]\n",
    "#print(Y)\n",
    "\n",
    "\n",
    "###AGB\n",
    "#X_bh = data[:,[6,7,8,9,10,11]]\n",
    "#X = data[:,[6,7,8,9,10]]\n",
    "#X_vh = data[:,9:16]\n",
    "#h = data[:,9]\n",
    "#print(Y)\n",
    "datb\n"
   ]
  },
  {
   "cell_type": "markdown",
   "metadata": {},
   "source": [
    "# Regression Models\n"
   ]
  },
  {
   "cell_type": "code",
   "execution_count": 3,
   "metadata": {},
   "outputs": [],
   "source": [
    "import numpy as np\n",
    "from sklearn import linear_model\n",
    "from sklearn import gaussian_process\n",
    "from sklearn import cross_decomposition\n",
    "from sklearn import svm\n",
    "from sklearn.model_selection import cross_val_score\n",
    "from sklearn.ensemble import RandomForestRegressor"
   ]
  },
  {
   "cell_type": "code",
   "execution_count": 25,
   "metadata": {},
   "outputs": [],
   "source": [
    "X_train, X_test, y_train, y_test = train_test_split(X_bands, Y, test_size=0.30, random_state=5)\n",
    "y_train = np.ravel(y_train.T)\n",
    "y_test = np.ravel(y_test.T)\n",
    "#X_test = X_test.T\n",
    "#X_train = X_train.reshape(-1, 1)\n",
    "#X_test = X_test.reshape(-1, 1)\n",
    "#Y = np.ravel(Y.T)"
   ]
  },
  {
   "cell_type": "code",
   "execution_count": 14,
   "metadata": {
    "scrolled": true
   },
   "outputs": [
    {
     "name": "stdout",
     "output_type": "stream",
     "text": [
      "Top-3 Most important components are:\n",
      "[[0.4981912  0.5121921  0.29102831 0.47642561 0.04465614 0.41927528]\n",
      " [0.02041628 0.01313537 0.60570477 0.18529872 0.75455906 0.16981571]\n",
      " [0.26164644 0.23011286 0.30248958 0.44100565 0.29176586 0.71237347]\n",
      " [0.46009592 0.24424907 0.6047487  0.06748105 0.38149029 0.46135085]\n",
      " [0.67355448 0.3139391  0.30122733 0.34877214 0.40150653 0.27235857]\n",
      " [0.13253658 0.72547875 0.0215734  0.64653022 0.19177277 0.02951443]]\n",
      "Explained_variance_ratio_:\n",
      "[0.59228852 0.26490155 0.09533117 0.02475094 0.01694191 0.00578591]\n"
     ]
    }
   ],
   "source": [
    "scaler = StandardScaler()\n",
    "scaler.fit(Xh)\n",
    "Xh=scaler.transform(Xh)  \n",
    "pca = PCA()\n",
    "pcaResult = pca.fit_transform(Xh)\n",
    "#print(\"PCA decomposition:\")\n",
    "#print(pca.components_)\n",
    "print(\"Top-3 Most important components are:\")\n",
    "print(np.abs(pca.components_))\n",
    "print(\"Explained_variance_ratio_:\")\n",
    "print(pca.explained_variance_ratio_)"
   ]
  },
  {
   "cell_type": "code",
   "execution_count": 18,
   "metadata": {},
   "outputs": [],
   "source": [
    "def plotResult(residual, y_pred, string):\n",
    "    fig, ax = plt.subplots()\n",
    "    ymin = min(y_pred)\n",
    "    ymax = max(y_pred)\n",
    "    ax.scatter(y_pred, residual, alpha=0.7)\n",
    "    ax.hlines(0, ymin, ymax, alpha=0.7, color='orange')\n",
    "    ax.set_xlabel('LAI')\n",
    "    ax.set_ylabel('Residual')\n",
    "    fig.show()\n",
    "    fig.savefig(string, dpi=300)"
   ]
  },
  {
   "cell_type": "code",
   "execution_count": 19,
   "metadata": {},
   "outputs": [],
   "source": [
    "X_train, X_test, y_train, y_test = train_test_split(Xh, Y, test_size=0.25, random_state=42)\n",
    "#X_train, X_test, y_train, y_test = train_test_split(X_veg_clusters, Y, test_size=0.25, random_state=7)\n",
    "#X_train = X_train.T\n",
    "y_train = np.ravel(y_train.T)\n",
    "y_test = np.ravel(y_test.T)\n",
    "#X_test = X_test.T\n",
    "#X_train = X_train.reshape(-1, 1)\n",
    "#X_test = X_test.reshape(-1, 1)\n",
    "Y = np.ravel(Y.T)"
   ]
  },
  {
   "cell_type": "code",
   "execution_count": 8,
   "metadata": {},
   "outputs": [],
   "source": [
    "#List of classifiers\n",
    "classifiers = [\n",
    "    make_pipeline(StandardScaler(), svm.SVR(kernel='linear')),\n",
    "    make_pipeline(StandardScaler(), linear_model.SGDRegressor(max_iter=1000, tol=1e-3)),\n",
    "    make_pipeline(StandardScaler(), linear_model.BayesianRidge()), \n",
    "    make_pipeline(StandardScaler(), cross_decomposition.PLSRegression(n_components=1)),\n",
    "    make_pipeline(StandardScaler(), linear_model.LinearRegression()),\n",
    "    make_pipeline(StandardScaler(), RandomForestRegressor())]"
   ]
  },
  {
   "cell_type": "code",
   "execution_count": 26,
   "metadata": {
    "scrolled": true
   },
   "outputs": [
    {
     "name": "stdout",
     "output_type": "stream",
     "text": [
      "Pipeline(steps=[('standardscaler', StandardScaler()),\n",
      "                ('svr', SVR(kernel='linear'))])\n",
      "RMSE: 5.633411487311107\n",
      "Train r2 =  0.25546122761692347 \n",
      "\n",
      "Test r2 =  0.24475666384177197 \n",
      "\n",
      "Pipeline(steps=[('standardscaler', StandardScaler()),\n",
      "                ('sgdregressor', SGDRegressor())])\n",
      "RMSE: 4.809037812021763\n",
      "Train r2 =  0.3921010592114955 \n",
      "\n",
      "Test r2 =  0.4496229253342441 \n",
      "\n",
      "Pipeline(steps=[('standardscaler', StandardScaler()),\n",
      "                ('bayesianridge', BayesianRidge())])\n",
      "RMSE: 5.53628457139953\n",
      "Train r2 =  0.19383483217462183 \n",
      "\n",
      "Test r2 =  0.27057480115382004 \n",
      "\n",
      "Pipeline(steps=[('standardscaler', StandardScaler()),\n",
      "                ('theilsenregressor',\n",
      "                 TheilSenRegressor(max_subpopulation=10000))])\n",
      "RMSE: 10.431839565987726\n",
      "Train r2 =  -0.1134442384695058 \n",
      "\n",
      "Test r2 =  -1.5897971616017852 \n",
      "\n",
      "Pipeline(steps=[('standardscaler', StandardScaler()),\n",
      "                ('linearregression', LinearRegression())])\n",
      "RMSE: 4.132816277473785\n",
      "Train r2 =  0.40700599016386285 \n",
      "\n",
      "Test r2 =  0.5935228371405932 \n",
      "\n",
      "Pipeline(steps=[('standardscaler', StandardScaler()),\n",
      "                ('randomforestregressor', RandomForestRegressor())])\n",
      "RMSE: 6.142993443301422\n",
      "Train r2 =  0.8676867521200579 \n",
      "\n",
      "Test r2 =  0.10194268337828971 \n",
      "\n"
     ]
    }
   ],
   "source": [
    "#Iterate through list of classifiers\n",
    "x=0\n",
    "for item in classifiers:\n",
    "    print(item)\n",
    "    x = x+1\n",
    "    clf = item\n",
    "    string = 'LAI' + str(x)\n",
    "    clf.fit(X_train, y_train)\n",
    "    y_pred = clf.predict(X_test)\n",
    "    residual = y_test-y_pred\n",
    "    print('RMSE:', np.sqrt(metrics.mean_squared_error(y_test, y_pred)))\n",
    "    print('Train r2 = ', clf.score(X_train, y_train),'\\n')\n",
    "    print('Test r2 = ', clf.score(X_test, y_test),'\\n')\n",
    "    "
   ]
  },
  {
   "cell_type": "code",
   "execution_count": 23,
   "metadata": {},
   "outputs": [],
   "source": [
    "#Grid search parameter dictionaries\n",
    "SVRparam = {'C': [1, 10, 100, 1000, 0.1, 0.01, 0.001, 0.0001], 'epsilon':[1.0, 0.1, 0.01, 0.001, 10], 'kernel': ['linear', 'rbf', 'poly', 'sigmoid']}\n",
    "SGDparam = {'loss': ['squared_loss', 'huber', 'epsilon_insensitive','squared_epsilon_insensitive'], 'alpha': [0.1, 0.01, 0.001, 0.0001, 0.00001], 'max_iter': [10, 100, 1000, 10000], 'epsilon': [1, 0.1, 0.001, 0.0001,0.00001], 'learning_rate': ['constant', 'optimal', 'invscaling', 'adaptive']}\n",
    "BRparam = {'n_iter': [100, 200, 300, 400, 500], 'tol': [0.1, 0.01, 0.001, 0.0001, 0.00001], 'alpha_1': [1e-03, 1e-04, 1e-06, 1e-07, 1e-08], 'alpha_2': [1e-03, 1e-04, 1e-06, 1e-07, 1e-08], 'lambda_1': [1e-03, 1e-04, 1e-06, 1e-07, 1e-08], 'lambda_2': [1e-03, 1e-04, 1e-06, 1e-07, 1e-08]}\n",
    "PLSparam = {'n_components': [1, 2, 3, 4, 5], 'scale': [True, False], 'max_iter': [100, 200, 300, 400, 500, 600, 700, 800, 900]}\n",
    "RFparam = {'n_estimators': [2, 3, 4, 5, 6, 7, 8, 9, 10], 'min_samples_split': [1.0, 2.0, 3.0, 4.0], 'max_features': ['auto', 'sqrt', 'log2'], 'bootstrap': ['True', 'False'], 'oob_score': ['True', 'False']}"
   ]
  },
  {
   "cell_type": "code",
   "execution_count": 24,
   "metadata": {},
   "outputs": [],
   "source": [
    "\n",
    "GSRegressors = [make_pipeline(StandardScaler(), GridSearchCV(SVR(), SVRparam, cv=5, n_jobs = -1, verbose=0, refit=True)),\n",
    "                make_pipeline(StandardScaler(), GridSearchCV(linear_model.SGDRegressor(), SGDparam, cv=5, n_jobs = -1, verbose=0, refit=True)),\n",
    "                make_pipeline(StandardScaler(), GridSearchCV(linear_model.BayesianRidge(), BRparam, cv=5, n_jobs = -1, verbose=0, refit=True)),\n",
    "                make_pipeline(StandardScaler(), GridSearchCV(cross_decomposition.PLSRegression(), PLSparam, cv=5, n_jobs = -1, verbose=0, refit=True)),\n",
    "                make_pipeline(StandardScaler(), GridSearchCV(RandomForestRegressor(), RFparam, cv=5, n_jobs = -1, verbose=0, refit=True))]"
   ]
  },
  {
   "cell_type": "code",
   "execution_count": 27,
   "metadata": {},
   "outputs": [
    {
     "name": "stdout",
     "output_type": "stream",
     "text": [
      "RMSE: 1.2587056410473614\n",
      "Train r2 =  0.8793667687161644 \n",
      "\n",
      "Test r2 =  0.8455541457051681 \n",
      "\n"
     ]
    },
    {
     "name": "stderr",
     "output_type": "stream",
     "text": [
      "<ipython-input-18-85455277782a>:9: UserWarning: Matplotlib is currently using module://ipykernel.pylab.backend_inline, which is a non-GUI backend, so cannot show the figure.\n",
      "  fig.show()\n"
     ]
    },
    {
     "name": "stdout",
     "output_type": "stream",
     "text": [
      "RMSE: 1.8216409665742481\n",
      "Train r2 =  0.7518927625383343 \n",
      "\n",
      "Test r2 =  0.6765155065579649 \n",
      "\n"
     ]
    },
    {
     "name": "stderr",
     "output_type": "stream",
     "text": [
      "<ipython-input-18-85455277782a>:9: UserWarning: Matplotlib is currently using module://ipykernel.pylab.backend_inline, which is a non-GUI backend, so cannot show the figure.\n",
      "  fig.show()\n"
     ]
    },
    {
     "name": "stdout",
     "output_type": "stream",
     "text": [
      "RMSE: 1.802547998316205\n",
      "Train r2 =  0.7785304096718428 \n",
      "\n",
      "Test r2 =  0.6832609760493726 \n",
      "\n"
     ]
    },
    {
     "name": "stderr",
     "output_type": "stream",
     "text": [
      "<ipython-input-18-85455277782a>:9: UserWarning: Matplotlib is currently using module://ipykernel.pylab.backend_inline, which is a non-GUI backend, so cannot show the figure.\n",
      "  fig.show()\n"
     ]
    },
    {
     "name": "stdout",
     "output_type": "stream",
     "text": [
      "RMSE: 2.555442171589809\n",
      "Train r2 =  0.6624152196132651 \n",
      "\n",
      "Test r2 =  0.3634097052339227 \n",
      "\n"
     ]
    },
    {
     "name": "stderr",
     "output_type": "stream",
     "text": [
      "<ipython-input-18-85455277782a>:9: UserWarning: Matplotlib is currently using module://ipykernel.pylab.backend_inline, which is a non-GUI backend, so cannot show the figure.\n",
      "  fig.show()\n",
      "C:\\Users\\renea\\anaconda3\\envs\\new_env\\lib\\site-packages\\sklearn\\ensemble\\_forest.py:832: UserWarning: Some inputs do not have OOB scores. This probably means too few trees were used to compute any reliable oob estimates.\n",
      "  warn(\"Some inputs do not have OOB scores. \"\n",
      "<ipython-input-18-85455277782a>:9: UserWarning: Matplotlib is currently using module://ipykernel.pylab.backend_inline, which is a non-GUI backend, so cannot show the figure.\n",
      "  fig.show()\n"
     ]
    },
    {
     "name": "stdout",
     "output_type": "stream",
     "text": [
      "RMSE: 3.2176052656419087\n",
      "Train r2 =  -0.010476591750102404 \n",
      "\n",
      "Test r2 =  -0.009237609245394296 \n",
      "\n"
     ]
    },
    {
     "data": {
      "image/png": "[encoded data removed]",
      "text/plain": [
       "<Figure size 432x288 with 1 Axes>"
      ]
     },
     "metadata": {
      "needs_background": "light"
     },
     "output_type": "display_data"
    },
    {
     "data": {
      "image/png": "[encoded data removed]",
      "text/plain": [
       "<Figure size 432x288 with 1 Axes>"
      ]
     },
     "metadata": {
      "needs_background": "light"
     },
     "output_type": "display_data"
    },
    {
     "data": {
      "image/png": "[encoded data removed]",
      "text/plain": [
       "<Figure size 432x288 with 1 Axes>"
      ]
     },
     "metadata": {
      "needs_background": "light"
     },
     "output_type": "display_data"
    },
    {
     "data": {
      "image/png": "[encoded data removed]",
      "text/plain": [
       "<Figure size 432x288 with 1 Axes>"
      ]
     },
     "metadata": {
      "needs_background": "light"
     },
     "output_type": "display_data"
    },
    {
     "data": {
      "image/png": "[encoded data removed]",
      "text/plain": [
       "<Figure size 432x288 with 1 Axes>"
      ]
     },
     "metadata": {
      "needs_background": "light"
     },
     "output_type": "display_data"
    }
   ],
   "source": [
    "#Iterate through regressors with gridsearch\n",
    "y=0\n",
    "for item in GSRegressors:\n",
    "    y = y+1\n",
    "    string = 'LAI_GS' + str(y)\n",
    "    clf = item\n",
    "    clf.fit(X_train, y_train)\n",
    "    y_pred = clf.predict(X_test)\n",
    "    residual = y_test-y_pred\n",
    "    print('RMSE:', np.sqrt(metrics.mean_squared_error(y_test, y_pred)))\n",
    "    print('Train r2 = ', clf.score(X_train, y_train),'\\n')\n",
    "    print('Test r2 = ', clf.score(X_test, y_test),'\\n')\n",
    "    plotResult(residual, y_pred, string)"
   ]
  },
  {
   "cell_type": "markdown",
   "metadata": {},
   "source": [
    "# Plotting"
   ]
  },
  {
   "cell_type": "code",
   "execution_count": 56,
   "metadata": {},
   "outputs": [
    {
     "name": "stdout",
     "output_type": "stream",
     "text": [
      "Training r2 =  0.8676163774160596 \n",
      "\n",
      "Testing r2 =  0.4360631100880651 \n",
      "\n",
      "[0.0567219  0.33674307 0.09044603 0.06012576 0.12537321 0.33059004]\n"
     ]
    },
    {
     "data": {
      "image/png": "[encoded data removed]",
      "text/plain": [
       "<Figure size 432x288 with 1 Axes>"
      ]
     },
     "metadata": {
      "needs_background": "light"
     },
     "output_type": "display_data"
    }
   ],
   "source": [
    "#plotting RF feature importance\n",
    "\n",
    "clf = RandomForestRegressor()\n",
    "clf.fit(X_train, y_train)\n",
    "y_pred = clf.predict(X_test)\n",
    "print('Training r2 = ', clf.score(X_train, y_train),'\\n')\n",
    "print('Testing r2 = ', clf.score(X_test, y_test),'\\n')\n",
    "feature_names = [f'feature {i}' for i in range(Xh.shape[1])]\n",
    "importances = clf.feature_importances_\n",
    "print(importances)\n",
    "std = np.std([\n",
    "    tree.feature_importances_ for tree in clf.estimators_], axis=0)\n",
    "forest_importances = pd.Series(importances, index=feature_names)\n",
    "fig, ax = plt.subplots()\n",
    "forest_importances.plot.bar(yerr=std, ax=ax)\n",
    "ax.set_ylabel(\"Mean accuracy decrease\")\n",
    "fig.tight_layout()\n",
    "fig.savefig('LNC_RF_import.png', dpi=300)"
   ]
  },
  {
   "cell_type": "code",
   "execution_count": 54,
   "metadata": {
    "scrolled": true
   },
   "outputs": [],
   "source": [
    "from sklearn.inspection import permutation_importance\n",
    "result = permutation_importance(\n",
    "    clf, X_test, y_test, n_repeats=20, random_state=42, n_jobs=2)\n",
    "forest_importances = pd.Series(result.importances_mean, index=feature_names)"
   ]
  },
  {
   "cell_type": "code",
   "execution_count": 55,
   "metadata": {},
   "outputs": [
    {
     "data": {
      "image/png": "[encoded data removed]",
      "text/plain": [
       "<Figure size 432x288 with 1 Axes>"
      ]
     },
     "metadata": {
      "needs_background": "light"
     },
     "output_type": "display_data"
    }
   ],
   "source": [
    "#plotting RF permutation index\n",
    "fig, ax = plt.subplots()\n",
    "axisFont = font_manager.FontProperties(family='Times New Roman',\n",
    "                                   style='normal', size=15)\n",
    "forest_importances.plot.bar(yerr=result.importances_std, ax=ax, alpha=0.7)\n",
    "\n",
    "ax.set_ylabel(\"Mean accuracy decrease\", fontproperties=axisFont)\n",
    "fig.tight_layout()\n",
    "fig.savefig('RF_permLAI.png', dpi=350)\n",
    "plt.show()"
   ]
  }
 ],
 "metadata": {
  "kernelspec": {
   "display_name": "Python 3",
   "language": "python",
   "name": "python3"
  },
  "language_info": {
   "codemirror_mode": {
    "name": "ipython",
    "version": 3
   },
   "file_extension": ".py",
   "mimetype": "text/x-python",
   "name": "python",
   "nbconvert_exporter": "python",
   "pygments_lexer": "ipython3",
   "version": "3.8.5"
  }
 },
 "nbformat": 4,
 "nbformat_minor": 4
}
